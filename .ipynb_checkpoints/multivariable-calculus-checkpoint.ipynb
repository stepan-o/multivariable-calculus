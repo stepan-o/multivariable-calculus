{
 "cells": [
  {
   "cell_type": "markdown",
   "metadata": {},
   "source": [
    "# Multivariable calculus"
   ]
  },
  {
   "cell_type": "markdown",
   "metadata": {},
   "source": [
    "Notes from [brilliant.org's course](https://brilliant.org/courses/multivariable-calculus/) on Multivariable Calculus."
   ]
  },
  {
   "cell_type": "markdown",
   "metadata": {
    "toc": true
   },
   "source": [
    "<h1>Table of Contents<span class=\"tocSkip\"></span></h1>\n",
    "<div class=\"toc\"><ul class=\"toc-item\"><li><span><a href=\"#Vectors\" data-toc-modified-id=\"Vectors-1\"><span class=\"toc-item-num\">1&nbsp;&nbsp;</span>Vectors</a></span></li><li><span><a href=\"#Limits\" data-toc-modified-id=\"Limits-2\"><span class=\"toc-item-num\">2&nbsp;&nbsp;</span>Limits</a></span></li><li><span><a href=\"#Volume-of-sphere-in-$n$-dimensions\" data-toc-modified-id=\"Volume-of-sphere-in-$n$-dimensions-3\"><span class=\"toc-item-num\">3&nbsp;&nbsp;</span>Volume of sphere in $n$ dimensions</a></span></li><li><span><a href=\"#Integrals-and-volumes-in-higher-dimensions\" data-toc-modified-id=\"Integrals-and-volumes-in-higher-dimensions-4\"><span class=\"toc-item-num\">4&nbsp;&nbsp;</span>Integrals and volumes in higher dimensions</a></span></li><li><span><a href=\"#Finding-extrema\" data-toc-modified-id=\"Finding-extrema-5\"><span class=\"toc-item-num\">5&nbsp;&nbsp;</span>Finding extrema</a></span></li></ul></div>"
   ]
  },
  {
   "cell_type": "markdown",
   "metadata": {},
   "source": [
    "In a nutshell, **multivariable calculus extends** the familiar **concepts of limits, derivatives, and integrals to functions with more than one independent variable**.\n",
    "\n",
    "Multivariable calculus is much more than just a repeat of single-variable calculus, however. It's a rich subject with its own unique puzzles and surprises. It introduces new tools that solve important problems in machine learning, neural networks, engineering, quantum computing, and astrophysics, to name just a few."
   ]
  },
  {
   "cell_type": "markdown",
   "metadata": {},
   "source": [
    "## Vectors\n",
    "\n",
    "**Vectors play an essential role** in multivariable calculus. For now, we can think of vectors as arrows in space. A vector is **defined by its direction and its length (or magnitude)**.\n",
    "\n",
    "Vectors **can also be thought of as collections of numbers**, making them ideal building blocks for multivariable functions.  Locating a point that sits in a 3-D space requires three numbers called **coordinates**. The vector whose tip sits at the point can also be described with these same three numbers."
   ]
  },
  {
   "cell_type": "markdown",
   "metadata": {},
   "source": [
    "<img src='img/mc_pic1.png' width='300'>"
   ]
  },
  {
   "cell_type": "markdown",
   "metadata": {},
   "source": [
    "Looking at the last problem from a different perspective, we can use the two angles specifying the direction of the vector and its length to locate a point in space. This is the essential idea behind **spherical coordinates**, a topic covered in detail in [Coordinates in 3D](https://brilliant.org/practice/3d-coordinate-systems/?p=1)."
   ]
  },
  {
   "cell_type": "markdown",
   "metadata": {},
   "source": [
    "## Limits\n",
    "\n",
    "Calculus truly is the mathematics of **limits**. Without limits, we couldn't define derivatives or integrals, the two pillars of our subject. This is true no matter how many independent variables we have.\n",
    "\n",
    "A single-variable limit can often be done with the help of continuity. Mathematically, continuity at a point $a$ means\n",
    "\n",
    "$$ \\lim \\limits_{x \\to a} f(x) = f(a) $$\n",
    "\n",
    "Intuitively, it means that the graph of the function has no holes or jumps or breaks."
   ]
  },
  {
   "cell_type": "markdown",
   "metadata": {},
   "source": [
    "## Volume of sphere in $n$ dimensions\n",
    "\n",
    "The integral was originally designed to solve planar area problems. Similarly, **multiple integrals** are very useful in solving volume problems in higher dimensions.\n",
    "\n",
    "We can start thinking about volumes of simple objects in higher dimensions even though we don't know how to integrate in higher dimensions yet or even how to properly visualize them with our 3D minds. We can do this by analogy.\n",
    "\n",
    "**Spheres** in $n$ dimensions are characterized by a radius. A sphere consists of all points at a fixed distance from a given center. The circle is the lowest dimensional sphere familiar to you. If it has radius $r$, its area is $\\pi r^2$ Also, the sphere in 3D has volume $\\frac{4} {3} \\pi r^3$ if it has radius $r$.\n",
    "\n",
    "Arguing by analogy, the pattern set by the circle and the 3D sphere seems to indicate that the **volume is proportional to $r^n$**.\n",
    "\n",
    "To prove this requires use of **multiple integrals**, a tool we haven't yet added to our toolbox. We can, however, argue roughly this way: the radius has units of length. It is in fact the only characteristic about a sphere that has such units. Volume in $n$ dimensions, on the other hand, has units $(\\text{length})^n$ (Think about square meter as a unit of area and cubic meter as a unit of volume, for example.) Since the radius is the only quantity carrying the unit of length, it stands to reason just based on unit analysis that\n",
    "\n",
    "$$ V \\propto r^n $$\n",
    "\n",
    "(Here and throughout, $\\propto$ is short for “proportional to.”)"
   ]
  },
  {
   "cell_type": "markdown",
   "metadata": {},
   "source": [
    "## Integrals and volumes in higher dimensions\n",
    "\n",
    "It may seem silly to consider volumes that are more than three-dimensional, but they play important roles in probability and physics where there could be thousands, millions, or even billions of variables.\n",
    "\n",
    "Mathematically, if $f(x) > 0$ on $[a, b]$, then the area between the graph and the lines $y = 0$, $x = a$, $x = b$ is\n",
    "\n",
    "$$ \\int \\limits_{x=a}^{x=b}f(x)dx $$\n",
    "\n",
    "When we generalize to multiple variables, we'll have an integral sign for each new variable, or dimension. For example, the $n$-dimensional sphere\n",
    "has volume\n",
    "\n",
    "$$ x_1^2 + x_2^2 + \\dots + x_n^2 = r^2 $$\n",
    "\n",
    "has volume \n",
    "\n",
    "$$ \\int \\dots \\int_{x_1^2 + x_2^2 + \\dots + x_n^2 \\leq r}1 dx_1 \\dots dx_n \\propto r^n $$\n",
    "\n",
    "To better explain this expression, the upcoming 3D volumes unit will introduce two-variable integrals through the Riemann sum."
   ]
  },
  {
   "cell_type": "markdown",
   "metadata": {},
   "source": [
    "## Finding extrema\n",
    "\n",
    "Finding the largest and smallest possible values of a function, or [extremizing](https://brilliant.org/wiki/optimization-problems/), is one of the most important practical applications of calculus.\n",
    "\n",
    "Finding the optimal values of a function of several variables is even more useful since many successful real-life models depend on two or more inputs.\n"
   ]
  },
  {
   "cell_type": "markdown",
   "metadata": {},
   "source": []
  },
  {
   "cell_type": "code",
   "execution_count": null,
   "metadata": {},
   "outputs": [],
   "source": []
  }
 ],
 "metadata": {
  "kernelspec": {
   "display_name": "Python 3",
   "language": "python",
   "name": "python3"
  },
  "language_info": {
   "codemirror_mode": {
    "name": "ipython",
    "version": 3
   },
   "file_extension": ".py",
   "mimetype": "text/x-python",
   "name": "python",
   "nbconvert_exporter": "python",
   "pygments_lexer": "ipython3",
   "version": "3.7.2"
  },
  "toc": {
   "base_numbering": 1,
   "nav_menu": {},
   "number_sections": true,
   "sideBar": true,
   "skip_h1_title": true,
   "title_cell": "Table of Contents",
   "title_sidebar": "Contents",
   "toc_cell": true,
   "toc_position": {},
   "toc_section_display": true,
   "toc_window_display": true
  },
  "varInspector": {
   "cols": {
    "lenName": 16,
    "lenType": 16,
    "lenVar": 40
   },
   "kernels_config": {
    "python": {
     "delete_cmd_postfix": "",
     "delete_cmd_prefix": "del ",
     "library": "var_list.py",
     "varRefreshCmd": "print(var_dic_list())"
    },
    "r": {
     "delete_cmd_postfix": ") ",
     "delete_cmd_prefix": "rm(",
     "library": "var_list.r",
     "varRefreshCmd": "cat(var_dic_list()) "
    }
   },
   "types_to_exclude": [
    "module",
    "function",
    "builtin_function_or_method",
    "instance",
    "_Feature"
   ],
   "window_display": false
  }
 },
 "nbformat": 4,
 "nbformat_minor": 2
}
