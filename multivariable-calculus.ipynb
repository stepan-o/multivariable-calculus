{
 "cells": [
  {
   "cell_type": "markdown",
   "metadata": {},
   "source": [
    "# Multivariable calculus"
   ]
  },
  {
   "cell_type": "markdown",
   "metadata": {},
   "source": [
    "Notes from [brilliant.org's course](https://brilliant.org/courses/multivariable-calculus/) on Multivariable Calculus."
   ]
  },
  {
   "cell_type": "markdown",
   "metadata": {
    "toc": true
   },
   "source": [
    "<h1>Table of Contents<span class=\"tocSkip\"></span></h1>\n",
    "<div class=\"toc\"><ul class=\"toc-item\"><li><ul class=\"toc-item\"><li><span><a href=\"#Define-functions\" data-toc-modified-id=\"Define-functions-0.1\"><span class=\"toc-item-num\">0.1&nbsp;&nbsp;</span>Define functions</a></span></li></ul></li><li><span><a href=\"#Vectors\" data-toc-modified-id=\"Vectors-1\"><span class=\"toc-item-num\">1&nbsp;&nbsp;</span>Vectors</a></span></li><li><span><a href=\"#Limits\" data-toc-modified-id=\"Limits-2\"><span class=\"toc-item-num\">2&nbsp;&nbsp;</span>Limits</a></span></li><li><span><a href=\"#Volume-of-sphere-in-$n$-dimensions\" data-toc-modified-id=\"Volume-of-sphere-in-$n$-dimensions-3\"><span class=\"toc-item-num\">3&nbsp;&nbsp;</span>Volume of sphere in $n$ dimensions</a></span></li><li><span><a href=\"#Integrals-and-volumes-in-higher-dimensions\" data-toc-modified-id=\"Integrals-and-volumes-in-higher-dimensions-4\"><span class=\"toc-item-num\">4&nbsp;&nbsp;</span>Integrals and volumes in higher dimensions</a></span></li><li><span><a href=\"#Finding-extrema\" data-toc-modified-id=\"Finding-extrema-5\"><span class=\"toc-item-num\">5&nbsp;&nbsp;</span>Finding extrema</a></span><ul class=\"toc-item\"><li><span><a href=\"#Cost-of-producing-a-box\" data-toc-modified-id=\"Cost-of-producing-a-box-5.1\"><span class=\"toc-item-num\">5.1&nbsp;&nbsp;</span>Cost of producing a box</a></span></li><li><span><a href=\"#Minimizing-cost-of-producing-a-box\" data-toc-modified-id=\"Minimizing-cost-of-producing-a-box-5.2\"><span class=\"toc-item-num\">5.2&nbsp;&nbsp;</span>Minimizing cost of producing a box</a></span><ul class=\"toc-item\"><li><span><a href=\"#Analytical-solution\" data-toc-modified-id=\"Analytical-solution-5.2.1\"><span class=\"toc-item-num\">5.2.1&nbsp;&nbsp;</span>Analytical solution</a></span></li><li><span><a href=\"#Numerical-solution\" data-toc-modified-id=\"Numerical-solution-5.2.2\"><span class=\"toc-item-num\">5.2.2&nbsp;&nbsp;</span>Numerical solution</a></span></li></ul></li></ul></li></ul></div>"
   ]
  },
  {
   "cell_type": "markdown",
   "metadata": {},
   "source": [
    "In a nutshell, **multivariable calculus extends** the familiar **concepts of limits, derivatives, and integrals to functions with more than one independent variable**.\n",
    "\n",
    "Multivariable calculus is much more than just a repeat of single-variable calculus, however. It's a rich subject with its own unique puzzles and surprises. It introduces new tools that solve important problems in machine learning, neural networks, engineering, quantum computing, and astrophysics, to name just a few."
   ]
  },
  {
   "cell_type": "markdown",
   "metadata": {},
   "source": [
    "### Define functions"
   ]
  },
  {
   "cell_type": "code",
   "execution_count": 1,
   "metadata": {
    "ExecuteTime": {
     "end_time": "2019-03-11T21:16:36.609867Z",
     "start_time": "2019-03-11T21:16:36.599861Z"
    }
   },
   "outputs": [],
   "source": [
    "def df(x, delta=0.00001):\n",
    "    \"\"\" derivative of a function \"\"\"\n",
    "    return (f(x + delta) - f(x)) / delta\n",
    "\n",
    "def ddf(x, delta=0.00001):\n",
    "    \"\"\" second derivative of a function \"\"\"\n",
    "    return (df(x + delta) - df(x)) / delta"
   ]
  },
  {
   "cell_type": "code",
   "execution_count": 28,
   "metadata": {
    "ExecuteTime": {
     "end_time": "2019-03-11T21:34:30.963950Z",
     "start_time": "2019-03-11T21:34:30.950940Z"
    }
   },
   "outputs": [],
   "source": [
    "def solve(func, value, x=0.5, delta=0.00001, \n",
    "          max_tries=1000, max_err=0.1, \n",
    "          print_all=False, x_round=5):\n",
    "    \"\"\" \n",
    "    equation solver\n",
    "    find 'x' that maps through 'func' to 'value'\n",
    "    \n",
    "    moves 'x' by 'err' divided by 'slope'\n",
    "    in the direction opposite to 'slope'\n",
    "    until 'func(x)' - 'value' < 'max_err' \n",
    "    \n",
    "    \"\"\"\n",
    "    for tries in range(max_tries):\n",
    "        err = func(x) - value\n",
    "        if abs(err) < max_err:\n",
    "            print(\"Solved in {0:,} steps!\".format(tries)) \n",
    "            return x\n",
    "        slope = (func(x + delta) - func(x)) / delta\n",
    "        x = x - err / slope\n",
    "        if print_all:\n",
    "            print(x)\n",
    "    print(\"After {0:,} iterations, no solutions found within:\\nerr = {1}\"\n",
    "          .format(max_tries, err))\n",
    "    print(\"Last value of x = {0:.{1}f}\".format(x, x_round))\n",
    "    return"
   ]
  },
  {
   "cell_type": "code",
   "execution_count": 21,
   "metadata": {
    "ExecuteTime": {
     "end_time": "2019-03-11T21:24:04.044459Z",
     "start_time": "2019-03-11T21:24:03.997416Z"
    }
   },
   "outputs": [],
   "source": [
    "import numpy as np\n",
    "import matplotlib.pyplot as plt\n",
    "from collections.abc import Iterable\n",
    "\n",
    "def plot_xy(x=None, y=None, line_color='blue', \n",
    "            line_label=\"\", line_label_size=16,\n",
    "            line_label_xlift=1, line_label_ylift=1.05,\n",
    "            points_x = None, points_y = None, \n",
    "            points_color='red', points_size=3,\n",
    "            plot_title = \"\",\n",
    "            v_line = None, h_line = None,\n",
    "            sup_line_style = '--', sup_line_width = 0.5, sup_line_color = 'gray',\n",
    "            x_lim = None, y_lim = None,\n",
    "            create = True, show = True, ax = None,\n",
    "            ):\n",
    "    \"\"\"\n",
    "    plot funcs\n",
    "    \"\"\"\n",
    "\n",
    "    def plot_lines(type, line):\n",
    "        \"\"\"\n",
    "        plots and annotates horizontal and vertical lines\n",
    "        \"\"\"\n",
    "        if type == 'h':\n",
    "            ax.axhline(line, color=sup_line_color,\n",
    "                       linestyle=sup_line_style, linewidth=sup_line_width)\n",
    "            ax.text(0, line, line)\n",
    "        elif type == 'v':\n",
    "            ax.axvline(line, color=sup_line_color,\n",
    "                       linestyle=sup_line_style, linewidth=sup_line_width)\n",
    "            ax.text(line, 0, line)\n",
    "        else:\n",
    "            print(\"func 'plot_lines': Input parameter 'type' must be either 'h' or 'v'.\")\n",
    "\n",
    "    line_text_style = dict(horizontalalignment='right', \n",
    "                           verticalalignment='center',\n",
    "                           fontsize=line_label_size, \n",
    "                           fontdict={'family': 'monospace'})\n",
    "            \n",
    "    if create == True:\n",
    "        f, ax = plt.subplots(1, figsize=(6, 6))\n",
    "        f.suptitle(plot_title)\n",
    "        # plot axes\n",
    "        ax.axvline(0, color='black', linestyle='-', linewidth=2)\n",
    "        ax.set_ylabel('y', rotation=0)\n",
    "        ax.axhline(0, color='black', linestyle='-', linewidth=2)\n",
    "        ax.set_xlabel('x')\n",
    "        ax.grid(False)\n",
    "\n",
    "    # plot the function (if supplied in arguments)\n",
    "    if x is not None and y is not None:\n",
    "        ax.plot(x, y, color=line_color)\n",
    "        \n",
    "        ax.text(x[int(len(x) / 2)] * line_label_xlift, \n",
    "                y[int(len(y) / 2)] * line_label_ylift, \n",
    "                line_label, color=line_color, **line_text_style)\n",
    "        \n",
    "    # plot the points (if supplied in arguments)\n",
    "    if points_x is not None and points_y is not None:\n",
    "        ax.scatter(points_x, points_y, s=points_size, color=points_color)\n",
    "\n",
    "    # plot vertical lines (if supplied)\n",
    "    if isinstance(v_line, Iterable):\n",
    "        for line in v_line:\n",
    "            plot_lines('v', line)\n",
    "    elif type(v_line) is float or type(v_line) is int \\\n",
    "    or type(h_line) is np.float64:\n",
    "        plot_lines('v', v_line)\n",
    "\n",
    "    # plot horizontal lines\n",
    "    if isinstance(h_line, Iterable):\n",
    "        for line in h_line:\n",
    "            plot_lines('h', line)\n",
    "    elif type(h_line) is float or type(h_line) is int \\\n",
    "    or type(h_line) is np.float64:\n",
    "        plot_lines('h', h_line)\n",
    "\n",
    "    # zoom axes\n",
    "    if x_lim:\n",
    "        ax.set_xlim(x_lim[0], x_lim[1])\n",
    "    if y_lim:\n",
    "        ax.set_ylim(y_lim[0], y_lim[1])\n",
    "\n",
    "\n",
    "    if show == True:\n",
    "        plt.show()\n"
   ]
  },
  {
   "cell_type": "markdown",
   "metadata": {},
   "source": [
    "## Vectors\n",
    "\n",
    "**Vectors play an essential role** in multivariable calculus. For now, we can think of vectors as arrows in space. A vector is **defined by its direction and its length (or magnitude)**.\n",
    "\n",
    "Vectors **can also be thought of as collections of numbers**, making them ideal building blocks for multivariable functions.  Locating a point that sits in a 3-D space requires three numbers called **coordinates**. The vector whose tip sits at the point can also be described with these same three numbers."
   ]
  },
  {
   "cell_type": "markdown",
   "metadata": {},
   "source": [
    "<img src='img/mc_pic1.png' width='300'>"
   ]
  },
  {
   "cell_type": "markdown",
   "metadata": {},
   "source": [
    "Looking at the last problem from a different perspective, we can use the two angles specifying the direction of the vector and its length to locate a point in space. This is the essential idea behind **spherical coordinates**, a topic covered in detail in [Coordinates in 3D](https://brilliant.org/practice/3d-coordinate-systems/?p=1)."
   ]
  },
  {
   "cell_type": "markdown",
   "metadata": {},
   "source": [
    "## Limits\n",
    "\n",
    "Calculus truly is the mathematics of **limits**. Without limits, we couldn't define derivatives or integrals, the two pillars of our subject. This is true no matter how many independent variables we have.\n",
    "\n",
    "A single-variable limit can often be done with the help of continuity. Mathematically, continuity at a point $a$ means\n",
    "\n",
    "$$ \\lim \\limits_{x \\to a} f(x) = f(a) $$\n",
    "\n",
    "Intuitively, it means that the graph of the function has no holes or jumps or breaks."
   ]
  },
  {
   "cell_type": "markdown",
   "metadata": {},
   "source": [
    "## Volume of sphere in $n$ dimensions\n",
    "\n",
    "The integral was originally designed to solve planar area problems. Similarly, **multiple integrals** are very useful in solving volume problems in higher dimensions.\n",
    "\n",
    "We can start thinking about volumes of simple objects in higher dimensions even though we don't know how to integrate in higher dimensions yet or even how to properly visualize them with our 3D minds. We can do this by analogy.\n",
    "\n",
    "**Spheres** in $n$ dimensions are characterized by a radius. A sphere consists of all points at a fixed distance from a given center. The circle is the lowest dimensional sphere familiar to you. If it has radius $r$, its area is $\\pi r^2$ Also, the sphere in 3D has volume $\\frac{4} {3} \\pi r^3$ if it has radius $r$.\n",
    "\n",
    "Arguing by analogy, the pattern set by the circle and the 3D sphere seems to indicate that the **volume is proportional to $r^n$**.\n",
    "\n",
    "To prove this requires use of **multiple integrals**, a tool we haven't yet added to our toolbox. We can, however, argue roughly this way: the radius has units of length. It is in fact the only characteristic about a sphere that has such units. Volume in $n$ dimensions, on the other hand, has units $(\\text{length})^n$ (Think about square meter as a unit of area and cubic meter as a unit of volume, for example.) Since the radius is the only quantity carrying the unit of length, it stands to reason just based on unit analysis that\n",
    "\n",
    "$$ V \\propto r^n $$\n",
    "\n",
    "(Here and throughout, $\\propto$ is short for “proportional to.”)"
   ]
  },
  {
   "cell_type": "markdown",
   "metadata": {},
   "source": [
    "## Integrals and volumes in higher dimensions\n",
    "\n",
    "It may seem silly to consider volumes that are more than three-dimensional, but they play important roles in probability and physics where there could be thousands, millions, or even billions of variables.\n",
    "\n",
    "Mathematically, if $f(x) > 0$ on $[a, b]$, then the area between the graph and the lines $y = 0$, $x = a$, $x = b$ is\n",
    "\n",
    "$$ \\int \\limits_{x=a}^{x=b}f(x)dx $$\n",
    "\n",
    "When we generalize to multiple variables, we'll have an integral sign for each new variable, or dimension. For example, the $n$-dimensional sphere\n",
    "has volume\n",
    "\n",
    "$$ x_1^2 + x_2^2 + \\dots + x_n^2 = r^2 $$\n",
    "\n",
    "has volume \n",
    "\n",
    "$$ \\int \\dots \\int_{x_1^2 + x_2^2 + \\dots + x_n^2 \\leq r}1 dx_1 \\dots dx_n \\propto r^n $$\n",
    "\n",
    "To better explain this expression, the upcoming 3D volumes unit will introduce two-variable integrals through the Riemann sum."
   ]
  },
  {
   "cell_type": "markdown",
   "metadata": {},
   "source": [
    "## Finding extrema\n",
    "\n",
    "Finding the largest and smallest possible values of a function, or [extremizing](https://brilliant.org/wiki/optimization-problems/), is one of the most important practical applications of calculus.\n",
    "\n",
    "Finding the optimal values of a function of several variables is even more useful since many successful real-life models depend on two or more inputs.\n"
   ]
  },
  {
   "cell_type": "markdown",
   "metadata": {},
   "source": [
    "### Cost of producing a box"
   ]
  },
  {
   "cell_type": "markdown",
   "metadata": {},
   "source": [
    "Let's start with a classic two-variable problem. Imagine a box with base length $x$ and height $y$. The box doesn't have a lid. The cost of manufacturing is directly proportional to the amount of material (or surface area) of the box.\n",
    "\n",
    "<img src='img/mc_pic2.png' width='150'>"
   ]
  },
  {
   "cell_type": "markdown",
   "metadata": {},
   "source": [
    "The surface area of the box $A$ is dependent on the base width $x$ and the height $y$.\n",
    "\n",
    "We express this relationship explicitly as\n",
    "\n",
    "$ A(x,y) = x^2 + 4xy $\n",
    "\n",
    "Writing the surface area as $A(x,y)$ tells us that it is a function of both base width and height.\n",
    "\n",
    "A company wants to produce such a box with base width at least 4 units and a height of at least 1 unit. If box material is 4 dollars per unit area, what's the cost of the cheapest box that can be produced?"
   ]
  },
  {
   "cell_type": "markdown",
   "metadata": {},
   "source": [
    "**Answer**\n",
    "\n",
    "The cost of this box would be $C(A) = 4A(4, 1) = 4(4^2 + 4\\cdot 4 \\cdot 1) = 128$"
   ]
  },
  {
   "cell_type": "markdown",
   "metadata": {},
   "source": [
    "### Minimizing cost of producing a box\n",
    "\n",
    "Now suppose the company wants to produce the cheapest possible box with a fixed volume of $x^2y = 4$ cubic units.\n",
    "\n",
    "Besides being positive, there's no restriction on the base width $x$ or the height $y$ this time.\n",
    "\n",
    "If the cost is $C(x,y) = 4x^2 + 16xy$, what is the minimum in this case?"
   ]
  },
  {
   "cell_type": "markdown",
   "metadata": {},
   "source": [
    "#### Analytical solution\n",
    "\n",
    "Since there is an additional constraint $x^2y = 4$, $x$ and $y$ are no longer independent, and we can express $y$ through $x$ as follows:\n",
    "\n",
    "$ x^2y = 4 \\implies y = \\frac{4} {x^2} $\n",
    "\n",
    "Now, we can write cost of producing a box as a function of one variable:\n",
    "\n",
    "$ C(x) = 4x^2 + 16x \\left( \\frac{4} {x^2} \\right) = 4x^2 + \\frac{64} {x} $"
   ]
  },
  {
   "cell_type": "code",
   "execution_count": 4,
   "metadata": {
    "ExecuteTime": {
     "end_time": "2019-03-11T21:16:44.989068Z",
     "start_time": "2019-03-11T21:16:44.984029Z"
    }
   },
   "outputs": [],
   "source": [
    "def f(x):\n",
    "    \"\"\" a function \"\"\"\n",
    "    return 4 * x ** 2 + 64 / x"
   ]
  },
  {
   "cell_type": "markdown",
   "metadata": {},
   "source": [
    "To find its minimum, we first find its derivative $C'(x)$ and then solve the condition of minimum $C'(x) = 0$:\n",
    "\n",
    "$ C'(x) = 8x - \\frac{64} {x^2} = 0 \\implies x^3 = 8 \\implies x = 2 $"
   ]
  },
  {
   "cell_type": "markdown",
   "metadata": {},
   "source": [
    "This is the only critical point for $C(x)$. By taking the second derivative $C''(x)$, we can verify that it is indeed a local minimum:\n",
    "\n",
    "$ C''(x) = 8 + \\frac{128} {x^3} \\implies C''(2) = 8 + \\frac{128} {8} > 0 $"
   ]
  },
  {
   "cell_type": "code",
   "execution_count": 26,
   "metadata": {
    "ExecuteTime": {
     "end_time": "2019-03-11T21:33:27.317692Z",
     "start_time": "2019-03-11T21:33:27.310684Z"
    }
   },
   "outputs": [],
   "source": [
    "def der_cost(x):\n",
    "    \"\"\" derivative of the cost function \"\"\"\n",
    "    return 8 * x - 64 / x ** 2"
   ]
  },
  {
   "cell_type": "markdown",
   "metadata": {},
   "source": [
    "Find $x$ that satisfies the condition of minimum $C'(x) = 0$: "
   ]
  },
  {
   "cell_type": "code",
   "execution_count": 32,
   "metadata": {
    "ExecuteTime": {
     "end_time": "2019-03-11T21:36:08.733429Z",
     "start_time": "2019-03-11T21:36:08.724421Z"
    }
   },
   "outputs": [
    {
     "name": "stdout",
     "output_type": "stream",
     "text": [
      "Solved in 7 steps!\n"
     ]
    },
    {
     "data": {
      "text/plain": [
       "2.0"
      ]
     },
     "execution_count": 32,
     "metadata": {},
     "output_type": "execute_result"
    }
   ],
   "source": [
    "solve(der_cost, 0, x=1, \n",
    "      max_tries=1000000, max_err=0.00000000000001, \n",
    "      x_round=7)"
   ]
  },
  {
   "cell_type": "code",
   "execution_count": 31,
   "metadata": {
    "ExecuteTime": {
     "end_time": "2019-03-11T21:35:17.504821Z",
     "start_time": "2019-03-11T21:35:17.118708Z"
    }
   },
   "outputs": [
    {
     "name": "stdout",
     "output_type": "stream",
     "text": [
      "Solved in 7 steps!\n",
      "x =  2.0\n",
      "Minimum function value:  48.0\n"
     ]
    },
    {
     "data": {
      "image/png": "[encoded data removed]",
      "text/plain": [
       "<Figure size 432x432 with 1 Axes>"
      ]
     },
     "metadata": {
      "needs_background": "light"
     },
     "output_type": "display_data"
    },
    {
     "name": "stdout",
     "output_type": "stream",
     "text": [
      "Wall time: 375 ms\n"
     ]
    }
   ],
   "source": [
    "%%time\n",
    "min_x = solve(der_cost, 0, x=1, \n",
    "              max_tries=1000000, max_err=0.00000000000001, \n",
    "              x_round=7)\n",
    "print(\"x = \", min_x)\n",
    "print(\"Minimum function value: \", f(min_x))\n",
    "\n",
    "x = np.linspace(0.0000001, 6, 1000)\n",
    "y = 4 * x ** 2 + 64 / x\n",
    "plot_xy(x, y, line_label='C(x)', line_label_ylift=1.3,\n",
    "        plot_title=\"Cost function C(x) and its derivatives C'(x) and C''(x)\", \n",
    "        y_lim=[-200, 300],\n",
    "        v_line=min_x, h_line=f(min_x), \n",
    "        show=False)\n",
    "\n",
    "ax = plt.gca()\n",
    "\n",
    "y = 8 * x - 64 / x ** 2\n",
    "plot_xy(x, y, line_color='firebrick', \n",
    "        line_label=\"C'(x)\", line_label_xlift=0.6, line_label_ylift=-7,\n",
    "        v_line=min_x, h_line=f(min_x), create=False, ax=ax, show=False)\n",
    "\n",
    "y = 8 + 128 / x ** 3\n",
    "plot_xy(x, y, line_color='m', \n",
    "        line_label=\"C''(x)\", line_label_xlift=0.8, line_label_ylift=10,\n",
    "        v_line=min_x, h_line=f(min_x), create=False, ax=ax)"
   ]
  },
  {
   "cell_type": "markdown",
   "metadata": {},
   "source": [
    "$ C(x) =  4x^2 + \\frac{64} {x}, \n",
    "\\quad  C'(x) = 8x - \\frac{64} {x^2}, \\quad C''(x) = 8 + \\frac{128} {x^3} $"
   ]
  },
  {
   "cell_type": "markdown",
   "metadata": {},
   "source": [
    "It in fact has to be the global minimum since\n",
    "\n",
    "$ \\lim \\limits_{x \\to 0^+} C(x) = \\infty, \\quad \\lim \\limits_{x \\to \\infty} C(x) = \\infty $"
   ]
  },
  {
   "cell_type": "markdown",
   "metadata": {},
   "source": [
    "Plugging $ x = 2 $ into the formula for the cost function gives us\n",
    "\n",
    "$ C(2) = 4(2)^2 + \\frac{64} {2} = 16 + 32 = 48 $"
   ]
  },
  {
   "cell_type": "markdown",
   "metadata": {},
   "source": [
    "#### Numerical solution\n",
    "\n",
    "First and second derivatives are found numerically in each point as \"rise over run\" using user-defined functions `df` and `ddf`:\n",
    "\n",
    "$$ \\frac{f(x + \\delta) - f(x)} {\\delta} $$"
   ]
  },
  {
   "cell_type": "code",
   "execution_count": 4,
   "metadata": {
    "ExecuteTime": {
     "end_time": "2019-03-11T21:16:44.989068Z",
     "start_time": "2019-03-11T21:16:44.984029Z"
    }
   },
   "outputs": [],
   "source": [
    "def f(x):\n",
    "    \"\"\" a function \"\"\"\n",
    "    return 4 * x ** 2 + 64 / x"
   ]
  },
  {
   "cell_type": "code",
   "execution_count": 23,
   "metadata": {
    "ExecuteTime": {
     "end_time": "2019-03-11T21:24:49.912671Z",
     "start_time": "2019-03-11T21:24:49.508802Z"
    },
    "scrolled": false
   },
   "outputs": [
    {
     "data": {
      "image/png": "[encoded data removed]",
      "text/plain": [
       "<Figure size 432x432 with 1 Axes>"
      ]
     },
     "metadata": {
      "needs_background": "light"
     },
     "output_type": "display_data"
    }
   ],
   "source": [
    "# create array of x\n",
    "x = np.linspace(0.0000001, 6, 1000)\n",
    "# calculate values of f(x)\n",
    "y = f(x)\n",
    "# plot\n",
    "plot_xy(x, y, line_label='C(x)', line_label_ylift=1.3,\n",
    "        plot_title=\"Cost function C(x) and its derivatives C'(x) and C''(x)\", \n",
    "        y_lim=[-200, 300], \n",
    "        show=False)\n",
    "\n",
    "# get axis that was created\n",
    "ax = plt.gca()\n",
    "\n",
    "# calculate values of f'(x)\n",
    "y = df(x)\n",
    "# get absolute values of f'(x)\n",
    "df_abs = abs(y)\n",
    "# find value of x correspodning to f'(x) closest to 0\n",
    "min_x = x[np.argmin(df_abs)]\n",
    "# plot\n",
    "plot_xy(x, y, line_color='firebrick', \n",
    "        line_label=\"C'(x)\", line_label_xlift=0.6, line_label_ylift=-7,\n",
    "        v_line=round(min_x, 2), h_line=round(f(min_x), 2), \n",
    "        create=False, show=False, ax=ax)\n",
    "\n",
    "# calculate values of f''(x)\n",
    "y = ddf(x)\n",
    "# plot\n",
    "plot_xy(x, y, line_color='m', \n",
    "        line_label=\"C''(x)\", line_label_xlift=0.8, line_label_ylift=10,\n",
    "        create=False, ax=ax)"
   ]
  },
  {
   "cell_type": "code",
   "execution_count": 11,
   "metadata": {
    "ExecuteTime": {
     "end_time": "2019-03-11T21:19:56.309551Z",
     "start_time": "2019-03-11T21:19:56.302570Z"
    }
   },
   "outputs": [
    {
     "data": {
      "text/plain": [
       "2"
      ]
     },
     "execution_count": 11,
     "metadata": {},
     "output_type": "execute_result"
    }
   ],
   "source": [
    "int(min_x)"
   ]
  },
  {
   "cell_type": "code",
   "execution_count": null,
   "metadata": {},
   "outputs": [],
   "source": []
  }
 ],
 "metadata": {
  "kernelspec": {
   "display_name": "Python 3",
   "language": "python",
   "name": "python3"
  },
  "language_info": {
   "codemirror_mode": {
    "name": "ipython",
    "version": 3
   },
   "file_extension": ".py",
   "mimetype": "text/x-python",
   "name": "python",
   "nbconvert_exporter": "python",
   "pygments_lexer": "ipython3",
   "version": "3.6.5"
  },
  "toc": {
   "base_numbering": 1,
   "nav_menu": {},
   "number_sections": true,
   "sideBar": true,
   "skip_h1_title": true,
   "title_cell": "Table of Contents",
   "title_sidebar": "Contents",
   "toc_cell": true,
   "toc_position": {},
   "toc_section_display": true,
   "toc_window_display": true
  },
  "varInspector": {
   "cols": {
    "lenName": 16,
    "lenType": 16,
    "lenVar": 40
   },
   "kernels_config": {
    "python": {
     "delete_cmd_postfix": "",
     "delete_cmd_prefix": "del ",
     "library": "var_list.py",
     "varRefreshCmd": "print(var_dic_list())"
    },
    "r": {
     "delete_cmd_postfix": ") ",
     "delete_cmd_prefix": "rm(",
     "library": "var_list.r",
     "varRefreshCmd": "cat(var_dic_list()) "
    }
   },
   "types_to_exclude": [
    "module",
    "function",
    "builtin_function_or_method",
    "instance",
    "_Feature"
   ],
   "window_display": false
  }
 },
 "nbformat": 4,
 "nbformat_minor": 2
}
