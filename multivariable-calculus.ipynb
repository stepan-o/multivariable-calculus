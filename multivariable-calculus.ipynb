{
 "cells": [
  {
   "cell_type": "markdown",
   "metadata": {},
   "source": [
    "# Multivariable calculus"
   ]
  },
  {
   "cell_type": "markdown",
   "metadata": {},
   "source": [
    "Notes from [brilliant.org's course](https://brilliant.org/courses/multivariable-calculus/) on Multivariable Calculus."
   ]
  },
  {
   "cell_type": "markdown",
   "metadata": {
    "toc": true
   },
   "source": [
    "<h1>Table of Contents<span class=\"tocSkip\"></span></h1>\n",
    "<div class=\"toc\"><ul class=\"toc-item\"><li><ul class=\"toc-item\"><li><span><a href=\"#Define-functions\" data-toc-modified-id=\"Define-functions-0.1\"><span class=\"toc-item-num\">0.1&nbsp;&nbsp;</span>Define functions</a></span><ul class=\"toc-item\"><li><span><a href=\"#f'(x)-and-f''(x)\" data-toc-modified-id=\"f'(x)-and-f''(x)-0.1.1\"><span class=\"toc-item-num\">0.1.1&nbsp;&nbsp;</span>f'(x) and f''(x)</a></span></li><li><span><a href=\"#Equation-solver\" data-toc-modified-id=\"Equation-solver-0.1.2\"><span class=\"toc-item-num\">0.1.2&nbsp;&nbsp;</span>Equation solver</a></span></li><li><span><a href=\"#Plot-a-function\" data-toc-modified-id=\"Plot-a-function-0.1.3\"><span class=\"toc-item-num\">0.1.3&nbsp;&nbsp;</span>Plot a function</a></span></li><li><span><a href=\"#Plot-a-barchart-with-min-and-max-highlighted\" data-toc-modified-id=\"Plot-a-barchart-with-min-and-max-highlighted-0.1.4\"><span class=\"toc-item-num\">0.1.4&nbsp;&nbsp;</span>Plot a barchart with min and max highlighted</a></span></li></ul></li></ul></li><li><span><a href=\"#Vectors\" data-toc-modified-id=\"Vectors-1\"><span class=\"toc-item-num\">1&nbsp;&nbsp;</span>Vectors</a></span></li><li><span><a href=\"#Limits\" data-toc-modified-id=\"Limits-2\"><span class=\"toc-item-num\">2&nbsp;&nbsp;</span>Limits</a></span></li><li><span><a href=\"#Volume-of-sphere-in-$n$-dimensions\" data-toc-modified-id=\"Volume-of-sphere-in-$n$-dimensions-3\"><span class=\"toc-item-num\">3&nbsp;&nbsp;</span>Volume of sphere in $n$ dimensions</a></span></li><li><span><a href=\"#Integrals-and-volumes-in-higher-dimensions\" data-toc-modified-id=\"Integrals-and-volumes-in-higher-dimensions-4\"><span class=\"toc-item-num\">4&nbsp;&nbsp;</span>Integrals and volumes in higher dimensions</a></span></li><li><span><a href=\"#Finding-extrema\" data-toc-modified-id=\"Finding-extrema-5\"><span class=\"toc-item-num\">5&nbsp;&nbsp;</span>Finding extrema</a></span><ul class=\"toc-item\"><li><span><a href=\"#Cost-of-producing-a-box\" data-toc-modified-id=\"Cost-of-producing-a-box-5.1\"><span class=\"toc-item-num\">5.1&nbsp;&nbsp;</span>Cost of producing a box</a></span></li><li><span><a href=\"#Minimizing-cost-of-producing-a-box\" data-toc-modified-id=\"Minimizing-cost-of-producing-a-box-5.2\"><span class=\"toc-item-num\">5.2&nbsp;&nbsp;</span>Minimizing cost of producing a box</a></span><ul class=\"toc-item\"><li><span><a href=\"#Analytical-solution\" data-toc-modified-id=\"Analytical-solution-5.2.1\"><span class=\"toc-item-num\">5.2.1&nbsp;&nbsp;</span>Analytical solution</a></span></li><li><span><a href=\"#Numerical-solution\" data-toc-modified-id=\"Numerical-solution-5.2.2\"><span class=\"toc-item-num\">5.2.2&nbsp;&nbsp;</span>Numerical solution</a></span></li></ul></li><li><span><a href=\"#Max-depth-from-a-survey\" data-toc-modified-id=\"Max-depth-from-a-survey-5.3\"><span class=\"toc-item-num\">5.3&nbsp;&nbsp;</span>Max depth from a survey</a></span></li><li><span><a href=\"#Introducing-partial-derivatives\" data-toc-modified-id=\"Introducing-partial-derivatives-5.4\"><span class=\"toc-item-num\">5.4&nbsp;&nbsp;</span>Introducing partial derivatives</a></span><ul class=\"toc-item\"><li><span><a href=\"#Analytical-solution\" data-toc-modified-id=\"Analytical-solution-5.4.1\"><span class=\"toc-item-num\">5.4.1&nbsp;&nbsp;</span>Analytical solution</a></span></li><li><span><a href=\"#Numerical-solution\" data-toc-modified-id=\"Numerical-solution-5.4.2\"><span class=\"toc-item-num\">5.4.2&nbsp;&nbsp;</span>Numerical solution</a></span></li><li><span><a href=\"#Continuing-solution\" data-toc-modified-id=\"Continuing-solution-5.4.3\"><span class=\"toc-item-num\">5.4.3&nbsp;&nbsp;</span>Continuing solution</a></span></li></ul></li></ul></li></ul></div>"
   ]
  },
  {
   "cell_type": "markdown",
   "metadata": {},
   "source": [
    "In a nutshell, **multivariable calculus extends** the familiar **concepts of limits, derivatives, and integrals to functions with more than one independent variable**.\n",
    "\n",
    "Multivariable calculus is much more than just a repeat of single-variable calculus, however. It's a rich subject with its own unique puzzles and surprises. It introduces new tools that solve important problems in machine learning, neural networks, engineering, quantum computing, and astrophysics, to name just a few."
   ]
  },
  {
   "cell_type": "markdown",
   "metadata": {},
   "source": [
    "### Define functions"
   ]
  },
  {
   "cell_type": "markdown",
   "metadata": {},
   "source": [
    "#### f'(x) and f''(x)"
   ]
  },
  {
   "cell_type": "code",
   "execution_count": 14,
   "metadata": {
    "ExecuteTime": {
     "end_time": "2019-03-11T22:29:59.118736Z",
     "start_time": "2019-03-11T22:29:59.110729Z"
    }
   },
   "outputs": [],
   "source": [
    "def df(x, delta=0.00001):\n",
    "    \"\"\" derivative of a function \"\"\"\n",
    "    return (f(x + delta) - f(x)) / delta\n",
    "\n",
    "def ddf(x, delta=0.00001):\n",
    "    \"\"\" second derivative of a function \"\"\"\n",
    "    return (df(x + delta) - df(x)) / delta"
   ]
  },
  {
   "cell_type": "markdown",
   "metadata": {},
   "source": [
    "#### Equation solver"
   ]
  },
  {
   "cell_type": "code",
   "execution_count": 15,
   "metadata": {
    "ExecuteTime": {
     "end_time": "2019-03-11T22:29:59.834411Z",
     "start_time": "2019-03-11T22:29:59.821430Z"
    }
   },
   "outputs": [],
   "source": [
    "def solve(func, value, x=0.5, delta=0.00001, \n",
    "          max_tries=1000, max_err=0.1, \n",
    "          print_all=False, x_round=5):\n",
    "    \"\"\" \n",
    "    equation solver\n",
    "    find 'x' that maps through 'func' to 'value'\n",
    "    \n",
    "    moves 'x' by 'err' divided by 'slope'\n",
    "    in the direction opposite to 'slope'\n",
    "    until 'func(x)' - 'value' < 'max_err' \n",
    "    \n",
    "    \"\"\"\n",
    "    for tries in range(max_tries):\n",
    "        err = func(x) - value\n",
    "        if abs(err) < max_err:\n",
    "            print(\"Solved in {0:,} steps!\".format(tries)) \n",
    "            return x\n",
    "        slope = (func(x + delta) - func(x)) / delta\n",
    "        x = x - err / slope\n",
    "        if print_all:\n",
    "            print(x)\n",
    "    print(\"After {0:,} iterations, no solutions found within:\\nerr = {1}\"\n",
    "          .format(max_tries, err))\n",
    "    print(\"Last value of x = {0:.{1}f}\".format(x, x_round))\n",
    "    return"
   ]
  },
  {
   "cell_type": "markdown",
   "metadata": {},
   "source": [
    "#### Plot a function"
   ]
  },
  {
   "cell_type": "code",
   "execution_count": 16,
   "metadata": {
    "ExecuteTime": {
     "end_time": "2019-03-11T22:30:00.520056Z",
     "start_time": "2019-03-11T22:30:00.474014Z"
    }
   },
   "outputs": [],
   "source": [
    "import numpy as np\n",
    "import matplotlib.pyplot as plt\n",
    "from collections.abc import Iterable\n",
    "\n",
    "def plot_xy(x=None, y=None, line_color='blue', \n",
    "            line_label=\"\", line_label_size=16,\n",
    "            line_label_xlift=1, line_label_ylift=1.05,\n",
    "            points_x = None, points_y = None, \n",
    "            points_color='red', points_size=3,\n",
    "            plot_title = \"\",\n",
    "            v_line = None, h_line = None,\n",
    "            sup_line_style = '--', sup_line_width = 0.5, sup_line_color = 'gray',\n",
    "            x_lim = None, y_lim = None,\n",
    "            create = True, show = True, ax = None,\n",
    "            ):\n",
    "    \"\"\"\n",
    "    plot funcs\n",
    "    \"\"\"\n",
    "\n",
    "    def plot_lines(type, line):\n",
    "        \"\"\"\n",
    "        plots and annotates horizontal and vertical lines\n",
    "        \"\"\"\n",
    "        if type == 'h':\n",
    "            ax.axhline(line, color=sup_line_color,\n",
    "                       linestyle=sup_line_style, linewidth=sup_line_width)\n",
    "            ax.text(0, line, line)\n",
    "        elif type == 'v':\n",
    "            ax.axvline(line, color=sup_line_color,\n",
    "                       linestyle=sup_line_style, linewidth=sup_line_width)\n",
    "            ax.text(line, 0, line)\n",
    "        else:\n",
    "            print(\"func 'plot_lines': Input parameter 'type' must be either 'h' or 'v'.\")\n",
    "\n",
    "    line_text_style = dict(horizontalalignment='right', \n",
    "                           verticalalignment='center',\n",
    "                           fontsize=line_label_size, \n",
    "                           fontdict={'family': 'monospace'})\n",
    "            \n",
    "    if create == True:\n",
    "        f, ax = plt.subplots(1, figsize=(6, 6))\n",
    "        f.suptitle(plot_title)\n",
    "        # plot axes\n",
    "        ax.axvline(0, color='black', linestyle='-', linewidth=2)\n",
    "        ax.set_ylabel('y', rotation=0)\n",
    "        ax.axhline(0, color='black', linestyle='-', linewidth=2)\n",
    "        ax.set_xlabel('x')\n",
    "        ax.grid(False)\n",
    "\n",
    "    # plot the function (if supplied in arguments)\n",
    "    if x is not None and y is not None:\n",
    "        ax.plot(x, y, color=line_color)\n",
    "        \n",
    "        ax.text(x[int(len(x) / 2)] * line_label_xlift, \n",
    "                y[int(len(y) / 2)] * line_label_ylift, \n",
    "                line_label, color=line_color, **line_text_style)\n",
    "        \n",
    "    # plot the points (if supplied in arguments)\n",
    "    if points_x is not None and points_y is not None:\n",
    "        ax.scatter(points_x, points_y, s=points_size, color=points_color)\n",
    "\n",
    "    # plot vertical lines (if supplied)\n",
    "    if isinstance(v_line, Iterable):\n",
    "        for line in v_line:\n",
    "            plot_lines('v', line)\n",
    "    elif type(v_line) is float or type(v_line) is int \\\n",
    "    or type(h_line) is np.float64:\n",
    "        plot_lines('v', v_line)\n",
    "\n",
    "    # plot horizontal lines\n",
    "    if isinstance(h_line, Iterable):\n",
    "        for line in h_line:\n",
    "            plot_lines('h', line)\n",
    "    elif type(h_line) is float or type(h_line) is int \\\n",
    "    or type(h_line) is np.float64:\n",
    "        plot_lines('h', h_line)\n",
    "\n",
    "    # zoom axes\n",
    "    if x_lim:\n",
    "        ax.set_xlim(x_lim[0], x_lim[1])\n",
    "    if y_lim:\n",
    "        ax.set_ylim(y_lim[0], y_lim[1])\n",
    "\n",
    "\n",
    "    if show == True:\n",
    "        plt.show()\n"
   ]
  },
  {
   "cell_type": "markdown",
   "metadata": {},
   "source": [
    "#### Plot a barchart with min and max highlighted"
   ]
  },
  {
   "cell_type": "code",
   "execution_count": 49,
   "metadata": {
    "ExecuteTime": {
     "end_time": "2019-03-11T23:00:24.494060Z",
     "start_time": "2019-03-11T23:00:24.469037Z"
    }
   },
   "outputs": [],
   "source": [
    "def plot_bars_with_minmax(series_to_plot, title=\"\", \n",
    "                          with_minmax=True, minmax_width=0.5,\n",
    "                          min_border=0.95, max_border=0.99, \n",
    "                          xlabel='x', ylabel='y',\n",
    "                          large_xticks=True,\n",
    "                          plot_mean=True,\n",
    "                          show=True):\n",
    "    \"\"\"\n",
    "    function to plot a gray barchart from a pandas Series, \n",
    "    plots mean (optional)\n",
    "    highlights bars with extreme values (optional)\n",
    "    \n",
    "    param: series_to_plot -- pandas Series -- Series to plot as a barchart\n",
    "           title          -- string        -- string with chart title \n",
    "           with_minmax    -- boolean       -- highlight extreme values \n",
    "           min_border     -- float         -- height limit for black min bar\n",
    "           max_border     -- float         -- height limit for lightgray max bar\n",
    "           minmax_width   -- float         -- width for min and max bars\n",
    "           xlabel         -- string        -- label for x axis\n",
    "           ylabel         -- string        -- label for y axis\n",
    "           large_x_ticks  -- boolean       -- whether to plot x ticks large\n",
    "           plot_mean      -- boolean       -- whether to plot mean\n",
    "           show           -- boolean       -- show the plot or leave it open\n",
    "\n",
    "    Output:          None, \n",
    "                     plots and shows barchart \n",
    "                     with mean and extremes (optional) highlighted\n",
    "    \"\"\"\n",
    "\n",
    "    # create figure and axis\n",
    "    f, ax = plt.subplots(1)\n",
    "\n",
    "    # plot a gray bar chart from input Series\n",
    "    plt.bar(x=series_to_plot.index,\n",
    "            height=series_to_plot,\n",
    "            color='gray')\n",
    "\n",
    "    if plot_mean:\n",
    "        # plot mean of the series\n",
    "        ax.axhline(series_to_plot.mean(), \n",
    "                   color='black', \n",
    "                   linestyle='--', \n",
    "                   linewidth=1)\n",
    "        ax.text(0, \n",
    "                series_to_plot.mean() * 1.01, \n",
    "                \"Mean of counts: {0:.2f}\".format(series_to_plot.mean()))\n",
    "\n",
    "    # optional: highlight the bars with minimum values \n",
    "    if with_minmax == True:\n",
    "        min_se = series_to_plot[series_to_plot == series_to_plot.min()]\n",
    "        plt.bar(x=min_se.index, \n",
    "                height=min_se * min_border, \n",
    "                color='black',\n",
    "                width=minmax_width)\n",
    "        \n",
    "        max_se = series_to_plot[series_to_plot == series_to_plot.max()]\n",
    "        plt.bar(x=max_se.index, \n",
    "                height=max_se * max_border, \n",
    "                color='lightgray',\n",
    "                width=minmax_width)\n",
    "\n",
    "    # set axis parameters\n",
    "    ax.set_title(title)\n",
    "    ax.set_xlabel(xlabel)\n",
    "    ax.set_xticks(series_to_plot.index)\n",
    "    ax.set_ylabel(ylabel)\n",
    "    ax.grid(False)\n",
    "    if large_xticks:\n",
    "        ax.tick_params('x', labelrotation=1, labelsize=20)\n",
    "    \n",
    "    # show the plot or leave it open\n",
    "    if show:\n",
    "        plt.show()"
   ]
  },
  {
   "cell_type": "markdown",
   "metadata": {},
   "source": [
    "## Vectors\n",
    "\n",
    "**Vectors play an essential role** in multivariable calculus. For now, we can think of vectors as arrows in space. A vector is **defined by its direction and its length (or magnitude)**.\n",
    "\n",
    "Vectors **can also be thought of as collections of numbers**, making them ideal building blocks for multivariable functions.  Locating a point that sits in a 3-D space requires three numbers called **coordinates**. The vector whose tip sits at the point can also be described with these same three numbers."
   ]
  },
  {
   "cell_type": "markdown",
   "metadata": {},
   "source": [
    "<img src='img/mc_pic1.png' width='300'>"
   ]
  },
  {
   "cell_type": "markdown",
   "metadata": {},
   "source": [
    "Looking at the last problem from a different perspective, we can use the two angles specifying the direction of the vector and its length to locate a point in space. This is the essential idea behind **spherical coordinates**, a topic covered in detail in [Coordinates in 3D](https://brilliant.org/practice/3d-coordinate-systems/?p=1)."
   ]
  },
  {
   "cell_type": "markdown",
   "metadata": {},
   "source": [
    "## Limits\n",
    "\n",
    "Calculus truly is the mathematics of **limits**. Without limits, we couldn't define derivatives or integrals, the two pillars of our subject. This is true no matter how many independent variables we have.\n",
    "\n",
    "A single-variable limit can often be done with the help of continuity. Mathematically, continuity at a point $a$ means\n",
    "\n",
    "$$ \\lim \\limits_{x \\to a} f(x) = f(a) $$\n",
    "\n",
    "Intuitively, it means that the graph of the function has no holes or jumps or breaks."
   ]
  },
  {
   "cell_type": "markdown",
   "metadata": {},
   "source": [
    "## Volume of sphere in $n$ dimensions\n",
    "\n",
    "The integral was originally designed to solve planar area problems. Similarly, **multiple integrals** are very useful in solving volume problems in higher dimensions.\n",
    "\n",
    "We can start thinking about volumes of simple objects in higher dimensions even though we don't know how to integrate in higher dimensions yet or even how to properly visualize them with our 3D minds. We can do this by analogy.\n",
    "\n",
    "**Spheres** in $n$ dimensions are characterized by a radius. A sphere consists of all points at a fixed distance from a given center. The circle is the lowest dimensional sphere familiar to you. If it has radius $r$, its area is $\\pi r^2$ Also, the sphere in 3D has volume $\\frac{4} {3} \\pi r^3$ if it has radius $r$.\n",
    "\n",
    "Arguing by analogy, the pattern set by the circle and the 3D sphere seems to indicate that the **volume is proportional to $r^n$**.\n",
    "\n",
    "To prove this requires use of **multiple integrals**, a tool we haven't yet added to our toolbox. We can, however, argue roughly this way: the radius has units of length. It is in fact the only characteristic about a sphere that has such units. Volume in $n$ dimensions, on the other hand, has units $(\\text{length})^n$ (Think about square meter as a unit of area and cubic meter as a unit of volume, for example.) Since the radius is the only quantity carrying the unit of length, it stands to reason just based on unit analysis that\n",
    "\n",
    "$$ V \\propto r^n $$\n",
    "\n",
    "(Here and throughout, $\\propto$ is short for “proportional to.”)"
   ]
  },
  {
   "cell_type": "markdown",
   "metadata": {},
   "source": [
    "## Integrals and volumes in higher dimensions\n",
    "\n",
    "It may seem silly to consider volumes that are more than three-dimensional, but they play important roles in probability and physics where there could be thousands, millions, or even billions of variables.\n",
    "\n",
    "Mathematically, if $f(x) > 0$ on $[a, b]$, then the area between the graph and the lines $y = 0$, $x = a$, $x = b$ is\n",
    "\n",
    "$$ \\int \\limits_{x=a}^{x=b}f(x)dx $$\n",
    "\n",
    "When we generalize to multiple variables, we'll have an integral sign for each new variable, or dimension. For example, the $n$-dimensional sphere\n",
    "has volume\n",
    "\n",
    "$$ x_1^2 + x_2^2 + \\dots + x_n^2 = r^2 $$\n",
    "\n",
    "has volume \n",
    "\n",
    "$$ \\int \\dots \\int_{x_1^2 + x_2^2 + \\dots + x_n^2 \\leq r}1 dx_1 \\dots dx_n \\propto r^n $$\n",
    "\n",
    "To better explain this expression, the upcoming 3D volumes unit will introduce two-variable integrals through the Riemann sum."
   ]
  },
  {
   "cell_type": "markdown",
   "metadata": {},
   "source": [
    "## Finding extrema\n",
    "\n",
    "Finding the largest and smallest possible values of a function, or [extremizing](https://brilliant.org/wiki/optimization-problems/), is one of the most important practical applications of calculus.\n",
    "\n",
    "Finding the optimal values of a function of several variables is even more useful since many successful real-life models depend on two or more inputs.\n"
   ]
  },
  {
   "cell_type": "markdown",
   "metadata": {},
   "source": [
    "### Cost of producing a box"
   ]
  },
  {
   "cell_type": "markdown",
   "metadata": {},
   "source": [
    "Let's start with a classic two-variable problem. Imagine a box with base length $x$ and height $y$. The box doesn't have a lid. The cost of manufacturing is directly proportional to the amount of material (or surface area) of the box.\n",
    "\n",
    "<img src='img/mc_pic2.png' width='150'>"
   ]
  },
  {
   "cell_type": "markdown",
   "metadata": {},
   "source": [
    "The surface area of the box $A$ is dependent on the base width $x$ and the height $y$.\n",
    "\n",
    "We express this relationship explicitly as\n",
    "\n",
    "$ A(x,y) = x^2 + 4xy $\n",
    "\n",
    "Writing the surface area as $A(x,y)$ tells us that it is a function of both base width and height.\n",
    "\n",
    "A company wants to produce such a box with base width at least 4 units and a height of at least 1 unit. If box material is 4 dollars per unit area, what's the cost of the cheapest box that can be produced?"
   ]
  },
  {
   "cell_type": "markdown",
   "metadata": {},
   "source": [
    "**Answer**\n",
    "\n",
    "The cost of this box would be $C(A) = 4A(4, 1) = 4(4^2 + 4\\cdot 4 \\cdot 1) = 128$"
   ]
  },
  {
   "cell_type": "markdown",
   "metadata": {},
   "source": [
    "### Minimizing cost of producing a box\n",
    "\n",
    "Now suppose the company wants to produce the cheapest possible box with a fixed volume of $x^2y = 4$ cubic units.\n",
    "\n",
    "Besides being positive, there's no restriction on the base width $x$ or the height $y$ this time.\n",
    "\n",
    "If the cost is $C(x,y) = 4x^2 + 16xy$, what is the minimum in this case?"
   ]
  },
  {
   "cell_type": "markdown",
   "metadata": {},
   "source": [
    "#### Analytical solution\n",
    "\n",
    "Since there is an additional constraint $x^2y = 4$, $x$ and $y$ are no longer independent, and we can express $y$ through $x$ as follows:\n",
    "\n",
    "$ x^2y = 4 \\implies y = \\frac{4} {x^2} $\n",
    "\n",
    "Now, we can write cost of producing a box as a function of one variable:\n",
    "\n",
    "$ C(x) = 4x^2 + 16x \\left( \\frac{4} {x^2} \\right) = 4x^2 + \\frac{64} {x} $"
   ]
  },
  {
   "cell_type": "code",
   "execution_count": 17,
   "metadata": {
    "ExecuteTime": {
     "end_time": "2019-03-11T22:30:05.210232Z",
     "start_time": "2019-03-11T22:30:05.205228Z"
    }
   },
   "outputs": [],
   "source": [
    "def f(x):\n",
    "    \"\"\" a function \"\"\"\n",
    "    return 4 * x ** 2 + 64 / x"
   ]
  },
  {
   "cell_type": "markdown",
   "metadata": {},
   "source": [
    "To find its minimum, we first find its derivative $C'(x)$ and then solve the condition of minimum $C'(x) = 0$:\n",
    "\n",
    "$ C'(x) = 8x - \\frac{64} {x^2} = 0 \\implies x^3 = 8 \\implies x = 2 $"
   ]
  },
  {
   "cell_type": "markdown",
   "metadata": {},
   "source": [
    "This is the only critical point for $C(x)$. By taking the second derivative $C''(x)$, we can verify that it is indeed a local minimum:\n",
    "\n",
    "$ C''(x) = 8 + \\frac{128} {x^3} \\implies C''(2) = 8 + \\frac{128} {8} > 0 $"
   ]
  },
  {
   "cell_type": "code",
   "execution_count": 18,
   "metadata": {
    "ExecuteTime": {
     "end_time": "2019-03-11T22:30:06.277196Z",
     "start_time": "2019-03-11T22:30:06.271242Z"
    }
   },
   "outputs": [],
   "source": [
    "def der_cost(x):\n",
    "    \"\"\" derivative of the cost function \"\"\"\n",
    "    return 8 * x - 64 / x ** 2"
   ]
  },
  {
   "cell_type": "markdown",
   "metadata": {},
   "source": [
    "Find $x$ that satisfies the condition of minimum $C'(x) = 0$: "
   ]
  },
  {
   "cell_type": "code",
   "execution_count": 19,
   "metadata": {
    "ExecuteTime": {
     "end_time": "2019-03-11T22:30:07.233058Z",
     "start_time": "2019-03-11T22:30:07.224106Z"
    }
   },
   "outputs": [
    {
     "name": "stdout",
     "output_type": "stream",
     "text": [
      "Solved in 7 steps!\n"
     ]
    },
    {
     "data": {
      "text/plain": [
       "2.0"
      ]
     },
     "execution_count": 19,
     "metadata": {},
     "output_type": "execute_result"
    }
   ],
   "source": [
    "solve(der_cost, 0, x=1, \n",
    "      max_tries=1000000, max_err=0.00000000000001, \n",
    "      x_round=7)"
   ]
  },
  {
   "cell_type": "code",
   "execution_count": 20,
   "metadata": {
    "ExecuteTime": {
     "end_time": "2019-03-11T22:30:08.228010Z",
     "start_time": "2019-03-11T22:30:07.790613Z"
    }
   },
   "outputs": [
    {
     "name": "stdout",
     "output_type": "stream",
     "text": [
      "Solved in 7 steps!\n",
      "x =  2.0\n",
      "Minimum function value:  48.0\n"
     ]
    },
    {
     "data": {
      "image/png": "[encoded data removed]",
      "text/plain": [
       "<Figure size 432x432 with 1 Axes>"
      ]
     },
     "metadata": {
      "needs_background": "light"
     },
     "output_type": "display_data"
    },
    {
     "name": "stdout",
     "output_type": "stream",
     "text": [
      "Wall time: 426 ms\n"
     ]
    }
   ],
   "source": [
    "%%time\n",
    "min_x = solve(der_cost, 0, x=1, \n",
    "              max_tries=1000000, max_err=0.00000000000001, \n",
    "              x_round=7)\n",
    "print(\"x = \", min_x)\n",
    "print(\"Minimum function value: \", f(min_x))\n",
    "\n",
    "x = np.linspace(0.0000001, 6, 1000)\n",
    "y = 4 * x ** 2 + 64 / x\n",
    "plot_xy(x, y, line_label='C(x)', line_label_ylift=1.3,\n",
    "        plot_title=\"Cost function C(x) and its derivatives C'(x) and C''(x)\", \n",
    "        y_lim=[-200, 300],\n",
    "        v_line=min_x, h_line=f(min_x), \n",
    "        show=False)\n",
    "\n",
    "ax = plt.gca()\n",
    "\n",
    "y = 8 * x - 64 / x ** 2\n",
    "plot_xy(x, y, line_color='firebrick', \n",
    "        line_label=\"C'(x)\", line_label_xlift=0.6, line_label_ylift=-7,\n",
    "        v_line=min_x, h_line=f(min_x), create=False, ax=ax, show=False)\n",
    "\n",
    "y = 8 + 128 / x ** 3\n",
    "plot_xy(x, y, line_color='m', \n",
    "        line_label=\"C''(x)\", line_label_xlift=0.8, line_label_ylift=10,\n",
    "        v_line=min_x, h_line=f(min_x), create=False, ax=ax)"
   ]
  },
  {
   "cell_type": "markdown",
   "metadata": {},
   "source": [
    "$ C(x) =  4x^2 + \\frac{64} {x}, \n",
    "\\quad  C'(x) = 8x - \\frac{64} {x^2}, \\quad C''(x) = 8 + \\frac{128} {x^3} $"
   ]
  },
  {
   "cell_type": "markdown",
   "metadata": {},
   "source": [
    "It in fact has to be the global minimum since\n",
    "\n",
    "$ \\lim \\limits_{x \\to 0^+} C(x) = \\infty, \\quad \\lim \\limits_{x \\to \\infty} C(x) = \\infty $"
   ]
  },
  {
   "cell_type": "markdown",
   "metadata": {},
   "source": [
    "Plugging $ x = 2 $ into the formula for the cost function gives us\n",
    "\n",
    "$ C(2) = 4(2)^2 + \\frac{64} {2} = 16 + 32 = 48 $"
   ]
  },
  {
   "cell_type": "markdown",
   "metadata": {},
   "source": [
    "#### Numerical solution\n",
    "\n",
    "First and second derivatives can be found numerically in each point as \"rise over run\" using user-defined functions `df` and `ddf`:\n",
    "\n",
    "$$ \\frac{f(x + \\delta) - f(x)} {\\delta} $$"
   ]
  },
  {
   "cell_type": "code",
   "execution_count": 21,
   "metadata": {
    "ExecuteTime": {
     "end_time": "2019-03-11T22:30:11.823200Z",
     "start_time": "2019-03-11T22:30:11.816194Z"
    }
   },
   "outputs": [],
   "source": [
    "def f(x):\n",
    "    \"\"\" a function \"\"\"\n",
    "    return 4 * x ** 2 + 64 / x"
   ]
  },
  {
   "cell_type": "code",
   "execution_count": 22,
   "metadata": {
    "ExecuteTime": {
     "end_time": "2019-03-11T22:30:12.823158Z",
     "start_time": "2019-03-11T22:30:12.447763Z"
    },
    "scrolled": false
   },
   "outputs": [
    {
     "data": {
      "image/png": "[encoded data removed]",
      "text/plain": [
       "<Figure size 432x432 with 1 Axes>"
      ]
     },
     "metadata": {
      "needs_background": "light"
     },
     "output_type": "display_data"
    }
   ],
   "source": [
    "# create array of x\n",
    "x = np.linspace(0.0000001, 6, 1000)\n",
    "# calculate values of f(x)\n",
    "y = f(x)\n",
    "# plot\n",
    "plot_xy(x, y, line_label='C(x)', line_label_ylift=1.3,\n",
    "        plot_title=\"Cost function C(x) and its derivatives C'(x) and C''(x)\", \n",
    "        y_lim=[-200, 300], \n",
    "        show=False)\n",
    "\n",
    "# get axis that was created\n",
    "ax = plt.gca()\n",
    "\n",
    "# calculate values of f'(x)\n",
    "y = df(x)\n",
    "# get absolute values of f'(x)\n",
    "df_abs = abs(y)\n",
    "# find value of x correspodning to f'(x) closest to 0\n",
    "min_x = x[np.argmin(df_abs)]\n",
    "# plot\n",
    "plot_xy(x, y, line_color='firebrick', \n",
    "        line_label=\"C'(x)\", line_label_xlift=0.6, line_label_ylift=-7,\n",
    "        v_line=round(min_x, 2), h_line=round(f(min_x), 2), \n",
    "        create=False, show=False, ax=ax)\n",
    "\n",
    "# calculate values of f''(x)\n",
    "y = ddf(x)\n",
    "# plot\n",
    "plot_xy(x, y, line_color='m', \n",
    "        line_label=\"C''(x)\", line_label_xlift=0.8, line_label_ylift=10,\n",
    "        create=False, ax=ax)"
   ]
  },
  {
   "cell_type": "markdown",
   "metadata": {},
   "source": [
    "### Max depth from a survey"
   ]
  },
  {
   "cell_type": "markdown",
   "metadata": {},
   "source": [
    "A constraint on $x$ and $y$ can reduce a two-variable function down to a single-variable function. In the last problem, fixing the volume tied the dimensions of the box together and effectively made the cost a function of just $x$ which we optimized using single-variable calculus.\n",
    "\n",
    "However, there are many examples of optimization problems where we have two legitimately independent variables $x$ and $y$; i.e. there's no constraint tying them together. This calls for a new kind of tool: the **partial derivative**.\n",
    "\n",
    "Lets look at an analogous problem first -- an expedition to chart the bottom of an unexplored lakebed."
   ]
  },
  {
   "cell_type": "markdown",
   "metadata": {},
   "source": [
    "<img src='img/mc_pic3.png' width='400'>"
   ]
  },
  {
   "cell_type": "markdown",
   "metadata": {},
   "source": [
    "A series of boats move across the lake's surface, lowering bobs to measure the depth of the bed. Here's a table displaying the depths recorded by each boat in the survey.\n",
    "\n"
   ]
  },
  {
   "cell_type": "code",
   "execution_count": 24,
   "metadata": {
    "ExecuteTime": {
     "end_time": "2019-03-11T22:31:38.963883Z",
     "start_time": "2019-03-11T22:31:38.926797Z"
    }
   },
   "outputs": [
    {
     "data": {
      "text/html": [
       "<div>\n",
       "<style scoped>\n",
       "    .dataframe tbody tr th:only-of-type {\n",
       "        vertical-align: middle;\n",
       "    }\n",
       "\n",
       "    .dataframe tbody tr th {\n",
       "        vertical-align: top;\n",
       "    }\n",
       "\n",
       "    .dataframe thead th {\n",
       "        text-align: right;\n",
       "    }\n",
       "</style>\n",
       "<table border=\"1\" class=\"dataframe\">\n",
       "  <thead>\n",
       "    <tr style=\"text-align: right;\">\n",
       "      <th></th>\n",
       "      <th>square_1</th>\n",
       "      <th>square_2</th>\n",
       "      <th>square_3</th>\n",
       "      <th>square_4</th>\n",
       "      <th>square_5</th>\n",
       "      <th>square_6</th>\n",
       "    </tr>\n",
       "  </thead>\n",
       "  <tbody>\n",
       "    <tr>\n",
       "      <th>0</th>\n",
       "      <td>130</td>\n",
       "      <td>130</td>\n",
       "      <td>130</td>\n",
       "      <td>130</td>\n",
       "      <td>130</td>\n",
       "      <td>130</td>\n",
       "    </tr>\n",
       "    <tr>\n",
       "      <th>1</th>\n",
       "      <td>129</td>\n",
       "      <td>78</td>\n",
       "      <td>46</td>\n",
       "      <td>214</td>\n",
       "      <td>182</td>\n",
       "      <td>131</td>\n",
       "    </tr>\n",
       "    <tr>\n",
       "      <th>2</th>\n",
       "      <td>131</td>\n",
       "      <td>184</td>\n",
       "      <td>199</td>\n",
       "      <td>61</td>\n",
       "      <td>76</td>\n",
       "      <td>129</td>\n",
       "    </tr>\n",
       "    <tr>\n",
       "      <th>3</th>\n",
       "      <td>130</td>\n",
       "      <td>129</td>\n",
       "      <td>126</td>\n",
       "      <td>133</td>\n",
       "      <td>131</td>\n",
       "      <td>130</td>\n",
       "    </tr>\n",
       "    <tr>\n",
       "      <th>4</th>\n",
       "      <td>130</td>\n",
       "      <td>137</td>\n",
       "      <td>157</td>\n",
       "      <td>101</td>\n",
       "      <td>121</td>\n",
       "      <td>130</td>\n",
       "    </tr>\n",
       "    <tr>\n",
       "      <th>5</th>\n",
       "      <td>130</td>\n",
       "      <td>130</td>\n",
       "      <td>130</td>\n",
       "      <td>129</td>\n",
       "      <td>130</td>\n",
       "      <td>130</td>\n",
       "    </tr>\n",
       "  </tbody>\n",
       "</table>\n",
       "</div>"
      ],
      "text/plain": [
       "   square_1  square_2  square_3  square_4  square_5  square_6\n",
       "0       130       130       130       130       130       130\n",
       "1       129        78        46       214       182       131\n",
       "2       131       184       199        61        76       129\n",
       "3       130       129       126       133       131       130\n",
       "4       130       137       157       101       121       130\n",
       "5       130       130       130       129       130       130"
      ]
     },
     "execution_count": 24,
     "metadata": {},
     "output_type": "execute_result"
    }
   ],
   "source": [
    "import pandas as pd\n",
    "\n",
    "survey = {\n",
    "            'square_1': [130, 129, 131, 130, 130, 130],\n",
    "            'square_2': [130, 78, 184, 129, 137, 130],\n",
    "            'square_3': [130, 46, 199, 126, 157, 130],    \n",
    "            'square_4': [130, 214, 61, 133, 101, 129],  \n",
    "            'square_5': [130, 182, 76, 131, 121, 130],\n",
    "            'square_6': [130, 131, 129, 130, 130, 130], \n",
    "}\n",
    "survey_df = pd.DataFrame(survey)\n",
    "survey_df"
   ]
  },
  {
   "cell_type": "markdown",
   "metadata": {},
   "source": [
    "Find the largest overall depth by finding the largest depth in each row, then taking the maximum of these values."
   ]
  },
  {
   "cell_type": "code",
   "execution_count": 47,
   "metadata": {
    "ExecuteTime": {
     "end_time": "2019-03-11T22:53:25.502057Z",
     "start_time": "2019-03-11T22:53:25.141728Z"
    }
   },
   "outputs": [
    {
     "name": "stdout",
     "output_type": "stream",
     "text": [
      "Maximum depth recorded: 214\n"
     ]
    },
    {
     "data": {
      "image/png": "[encoded data removed]",
      "text/plain": [
       "<Figure size 432x288 with 1 Axes>"
      ]
     },
     "metadata": {
      "needs_background": "light"
     },
     "output_type": "display_data"
    }
   ],
   "source": [
    "plot_bars_with_minmax(survey_df.max(axis=1), \n",
    "                      title=\"Depth recorded by each boat\", \n",
    "                      xlabel='Boat', ylabel='Depth',\n",
    "                      with_minmax=True, plot_mean=False, show=False)\n",
    "ax = plt.gca()\n",
    "max_depth = survey_df.max(axis=1).max()\n",
    "print(\"Maximum depth recorded:\", survey_df.max(axis=1).max())\n",
    "ax.axhline(max_depth, linestyle='--', color='red')\n",
    "ax.text(0, max_depth, \"Max depth: {0}\".format(max_depth))\n",
    "plt.show()"
   ]
  },
  {
   "cell_type": "markdown",
   "metadata": {},
   "source": [
    "In this search, we maximized row by row, and then took the maximum of these values. Notice that we would get the same answer if we maximize column by column, and then take the largest value of the results."
   ]
  },
  {
   "cell_type": "code",
   "execution_count": 51,
   "metadata": {
    "ExecuteTime": {
     "end_time": "2019-03-11T23:00:49.432617Z",
     "start_time": "2019-03-11T23:00:49.081303Z"
    }
   },
   "outputs": [
    {
     "name": "stdout",
     "output_type": "stream",
     "text": [
      "Maximum depth recorded: 214\n"
     ]
    },
    {
     "data": {
      "image/png": "[encoded data removed]",
      "text/plain": [
       "<Figure size 432x288 with 1 Axes>"
      ]
     },
     "metadata": {
      "needs_background": "light"
     },
     "output_type": "display_data"
    }
   ],
   "source": [
    "plot_bars_with_minmax(survey_df.max(), \n",
    "                      title=\"Depth recorded by each square\", \n",
    "                      xlabel='Square', ylabel='Boat',\n",
    "                      large_xticks=False,\n",
    "                      with_minmax=True, plot_mean=False, show=False)\n",
    "ax = plt.gca()\n",
    "max_depth = survey_df.max().max()\n",
    "print(\"Maximum depth recorded:\", max_depth)\n",
    "ax.axhline(max_depth, linestyle='--', color='red')\n",
    "ax.text(0, max_depth, \"Max depth: {0}\".format(max_depth))\n",
    "plt.show()"
   ]
  },
  {
   "cell_type": "markdown",
   "metadata": {},
   "source": [
    "### Introducing partial derivatives\n",
    "\n",
    "To find the largest depth in the table, we maximized row by row, and then took the largest of these values to find the global maximum depth.\n",
    "\n",
    "The depth table data was actually built using the function\n",
    "\n",
    "$ f(x, y) = 2 x y e^{1 - x^2 - y^2} \\quad for ~ -2 \\leq x \\leq 2, 0 \\leq y \\leq 2 $"
   ]
  },
  {
   "cell_type": "markdown",
   "metadata": {},
   "source": [
    "(not to scale) so we expect it has a maximum. Let's combine our table strategy with what we know of single-variable calculus to find it.\n",
    "\n",
    "By analogy, let's fix one variable, say $y$, though we could also fix $x$ and get the same answer. We'll use $y_0$ to remind ourselves the value is fixed.\n",
    "\n",
    "Find the maximum value of\n",
    "\n",
    "$ f(x, y_0) = 2 x y_0 e^{1 - x^2 - y_0^2}\n",
    "= (2 y_0 e^{1 - y_0^2})x e^{-x^2}\n",
    "\\quad for ~ -2 \\leq x \\leq 2,0 $"
   ]
  },
  {
   "cell_type": "markdown",
   "metadata": {},
   "source": [
    "#### Analytical solution\n",
    "\n",
    "When $ y_0 = 0 $, the whole function vanishes, so the maximum value in this case is just 0.\n",
    "\n",
    "If $ y_0 \\neq 0 $ then we can just maximize the single-variable function $(2 y_0 e^{1 - y_0^2})x e^{-x^2}$ for $x$ between -2 and 2."
   ]
  },
  {
   "cell_type": "markdown",
   "metadata": {},
   "source": [
    "Taking the first derivative gives us\n",
    "\n",
    "$ \\frac{d} {dx}((2 y_0 e^{1 - y_0^2}) x e^{-x^2}) \n",
    "= \n",
    "2 y_0 e^{1 - y_0^2} \\left[ \\frac{d} {dx} (x) e^{-x^2} + x \\frac{d} {dx} (e^{-x^2}) \\right] \n",
    "=~=\n",
    "2 y_0 e^{1 - y_0^2} \\left[ e^{-x^2} + x e^{-x^2} \\frac{d} {dx} (-x^2) \\right]\n",
    "=\n",
    "2 y_0 e^{1 - y_0^2} \\left[ e^{-x^2} - 2x^2 e^{-x^2} \\right]\n",
    "=~=\n",
    "(2 y_0 e^{1 - y_0^2}) e^{-x^2} \\left[ 1 - 2x^2 \\right]\n",
    "$"
   ]
  },
  {
   "cell_type": "markdown",
   "metadata": {},
   "source": [
    "Setting this equal to 0 and solving for $x$ gives us the critical points\n",
    "\n",
    "$ (2 y_0 e^{1 - y_0^2}) e^{-x^2} \\left[ 1 - 2x^2 \\right] = 0 \\implies 1 - 2x^2  = 0 \\implies x = \\pm \\frac{1} {\\sqrt 2} $, \n",
    "\n",
    "which are between -2 and 2."
   ]
  },
  {
   "cell_type": "code",
   "execution_count": 54,
   "metadata": {
    "ExecuteTime": {
     "end_time": "2019-03-11T23:32:40.010554Z",
     "start_time": "2019-03-11T23:32:40.003560Z"
    }
   },
   "outputs": [],
   "source": [
    "def der(x):\n",
    "    \"\"\" derivative \"\"\"\n",
    "    return 2 * np.e ** (-x ** 2) * (1 - 2 * x ** 2)"
   ]
  },
  {
   "cell_type": "code",
   "execution_count": 55,
   "metadata": {
    "ExecuteTime": {
     "end_time": "2019-03-11T23:32:42.591576Z",
     "start_time": "2019-03-11T23:32:42.579565Z"
    }
   },
   "outputs": [
    {
     "name": "stdout",
     "output_type": "stream",
     "text": [
      "Solved in 6 steps!\n"
     ]
    },
    {
     "data": {
      "text/plain": [
       "0.7071067811865476"
      ]
     },
     "execution_count": 55,
     "metadata": {},
     "output_type": "execute_result"
    }
   ],
   "source": [
    "solve(der, 0, x=1, \n",
    "      max_tries=1000000, max_err=0.00000000000001, \n",
    "      x_round=7)"
   ]
  },
  {
   "cell_type": "code",
   "execution_count": 56,
   "metadata": {
    "ExecuteTime": {
     "end_time": "2019-03-11T23:33:09.843475Z",
     "start_time": "2019-03-11T23:33:09.836523Z"
    }
   },
   "outputs": [
    {
     "data": {
      "text/plain": [
       "0.7071067811865475"
      ]
     },
     "execution_count": 56,
     "metadata": {},
     "output_type": "execute_result"
    }
   ],
   "source": [
    "1 / 2 ** 0.5"
   ]
  },
  {
   "cell_type": "code",
   "execution_count": 57,
   "metadata": {
    "ExecuteTime": {
     "end_time": "2019-03-11T23:33:20.139007Z",
     "start_time": "2019-03-11T23:33:20.129985Z"
    }
   },
   "outputs": [
    {
     "name": "stdout",
     "output_type": "stream",
     "text": [
      "Solved in 6 steps!\n"
     ]
    },
    {
     "data": {
      "text/plain": [
       "-0.7071067811865476"
      ]
     },
     "execution_count": 57,
     "metadata": {},
     "output_type": "execute_result"
    }
   ],
   "source": [
    "solve(der, 0, x=-1, \n",
    "      max_tries=1000000, max_err=0.00000000000001, \n",
    "      x_round=7)"
   ]
  },
  {
   "cell_type": "code",
   "execution_count": 58,
   "metadata": {
    "ExecuteTime": {
     "end_time": "2019-03-11T23:33:26.185369Z",
     "start_time": "2019-03-11T23:33:26.177417Z"
    }
   },
   "outputs": [
    {
     "data": {
      "text/plain": [
       "-0.7071067811865475"
      ]
     },
     "execution_count": 58,
     "metadata": {},
     "output_type": "execute_result"
    }
   ],
   "source": [
    "-1 / 2 ** 0.5"
   ]
  },
  {
   "cell_type": "markdown",
   "metadata": {},
   "source": [
    "#### Numerical solution\n",
    "\n",
    "First and second derivatives can be found numerically in each point as \"rise over run\" using user-defined functions `df` and `ddf`:\n",
    "\n",
    "$$ \\frac{f(x + \\delta) - f(x)} {\\delta} $$"
   ]
  },
  {
   "cell_type": "markdown",
   "metadata": {},
   "source": [
    "$ f(x, y_0) = (2 y_0 e^{1 - y_0^2})x e^{-x^2} $, where $(2 y_0 e^{1 - y_0^2})$ represents a constant"
   ]
  },
  {
   "cell_type": "code",
   "execution_count": 70,
   "metadata": {
    "ExecuteTime": {
     "end_time": "2019-03-11T23:57:09.423161Z",
     "start_time": "2019-03-11T23:57:09.417214Z"
    }
   },
   "outputs": [],
   "source": [
    "def f(x):\n",
    "    \"\"\" a function \"\"\"\n",
    "    return x * np.e ** (-x ** 2)"
   ]
  },
  {
   "cell_type": "code",
   "execution_count": 95,
   "metadata": {
    "ExecuteTime": {
     "end_time": "2019-03-12T00:05:58.164959Z",
     "start_time": "2019-03-12T00:05:58.156950Z"
    }
   },
   "outputs": [
    {
     "data": {
      "text/plain": [
       "0.7067067067067065"
      ]
     },
     "execution_count": 95,
     "metadata": {},
     "output_type": "execute_result"
    }
   ],
   "source": [
    "max_x = x[np.argmin(df_abs)]\n",
    "max_x"
   ]
  },
  {
   "cell_type": "code",
   "execution_count": 96,
   "metadata": {
    "ExecuteTime": {
     "end_time": "2019-03-12T00:06:15.560717Z",
     "start_time": "2019-03-12T00:06:15.135393Z"
    },
    "scrolled": false
   },
   "outputs": [
    {
     "data": {
      "image/png": "[encoded data removed]",
      "text/plain": [
       "<Figure size 432x432 with 1 Axes>"
      ]
     },
     "metadata": {
      "needs_background": "light"
     },
     "output_type": "display_data"
    }
   ],
   "source": [
    "# create array of x\n",
    "x = np.linspace(-2, 2, 1000)\n",
    "# calculate values of f(x)\n",
    "y = f(x)\n",
    "# plot\n",
    "plot_xy(x, y, line_label='C(x)', line_label_ylift=0.5,\n",
    "        plot_title=\"Cost function C(x) and its derivatives C'(x) and C''(x)\", \n",
    "        y_lim=[-2, 2], \n",
    "        show=False)\n",
    "\n",
    "# get axis that was created\n",
    "ax = plt.gca()\n",
    "\n",
    "# calculate values of f'(x)\n",
    "y = df(x)\n",
    "# get absolute values of f'(x)\n",
    "df_abs = abs(y)\n",
    "# find value of x correspodning to f'(x) closest to 0\n",
    "max_x = x[np.argmin(df_abs)]\n",
    "# plot\n",
    "plot_xy(x, y, line_color='firebrick', \n",
    "        line_label=\"C'(x)\", line_label_xlift=400, line_label_ylift=1.1,\n",
    "        v_line=round(max_x, 2), h_line=round(f(max_x), 2), \n",
    "        create=False, show=False, ax=ax)\n",
    "\n",
    "# calculate values of f''(x)\n",
    "y = ddf(x)\n",
    "# plot\n",
    "plot_xy(x, y, line_color='m', \n",
    "        line_label=\"C''(x)\", line_label_xlift=0.8, line_label_ylift=130,\n",
    "        create=False, ax=ax)"
   ]
  },
  {
   "cell_type": "markdown",
   "metadata": {},
   "source": [
    "#### Continuing solution"
   ]
  },
  {
   "cell_type": "code",
   "execution_count": 100,
   "metadata": {
    "ExecuteTime": {
     "end_time": "2019-03-12T00:11:09.857236Z",
     "start_time": "2019-03-12T00:11:09.850229Z"
    }
   },
   "outputs": [
    {
     "data": {
      "text/plain": [
       "0.42888194248035344"
      ]
     },
     "execution_count": 100,
     "metadata": {},
     "output_type": "execute_result"
    }
   ],
   "source": [
    "x = 1 / 2 ** 0.5\n",
    "f(x)"
   ]
  },
  {
   "cell_type": "markdown",
   "metadata": {},
   "source": [
    "It follows that \n",
    "\n",
    "$ f( \\pm \\frac{1} {\\sqrt 2}, y_0) = \\pm \\sqrt 2 y_0 e ^{\\frac{1} {2} - y_0^2} $\n",
    "\n",
    "We just need to compare the positive value to the value at the endpoints:"
   ]
  },
  {
   "cell_type": "code",
   "execution_count": null,
   "metadata": {},
   "outputs": [],
   "source": []
  },
  {
   "cell_type": "markdown",
   "metadata": {},
   "source": []
  },
  {
   "cell_type": "code",
   "execution_count": null,
   "metadata": {},
   "outputs": [],
   "source": []
  }
 ],
 "metadata": {
  "kernelspec": {
   "display_name": "Python 3",
   "language": "python",
   "name": "python3"
  },
  "language_info": {
   "codemirror_mode": {
    "name": "ipython",
    "version": 3
   },
   "file_extension": ".py",
   "mimetype": "text/x-python",
   "name": "python",
   "nbconvert_exporter": "python",
   "pygments_lexer": "ipython3",
   "version": "3.6.5"
  },
  "toc": {
   "base_numbering": 1,
   "nav_menu": {},
   "number_sections": true,
   "sideBar": true,
   "skip_h1_title": true,
   "title_cell": "Table of Contents",
   "title_sidebar": "Contents",
   "toc_cell": true,
   "toc_position": {},
   "toc_section_display": true,
   "toc_window_display": true
  },
  "varInspector": {
   "cols": {
    "lenName": 16,
    "lenType": 16,
    "lenVar": 40
   },
   "kernels_config": {
    "python": {
     "delete_cmd_postfix": "",
     "delete_cmd_prefix": "del ",
     "library": "var_list.py",
     "varRefreshCmd": "print(var_dic_list())"
    },
    "r": {
     "delete_cmd_postfix": ") ",
     "delete_cmd_prefix": "rm(",
     "library": "var_list.r",
     "varRefreshCmd": "cat(var_dic_list()) "
    }
   },
   "types_to_exclude": [
    "module",
    "function",
    "builtin_function_or_method",
    "instance",
    "_Feature"
   ],
   "window_display": false
  }
 },
 "nbformat": 4,
 "nbformat_minor": 2
}
